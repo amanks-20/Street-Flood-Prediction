{
 "cells": [
  {
   "cell_type": "code",
   "execution_count": 3,
   "metadata": {
    "colab": {
     "base_uri": "https://localhost:8080/"
    },
    "id": "bttHMRAD7lQ9",
    "outputId": "c01db815-208e-4b98-e690-34fabd97ebfc"
   },
   "outputs": [],
   "source": [
    "import pandas as pd\n",
    "import numpy as np\n",
    "from sklearn.model_selection import train_test_split\n",
    "from sklearn.ensemble import RandomForestRegressor, AdaBoostRegressor\n",
    "from sklearn.metrics import mean_squared_error, r2_score\n",
    "import matplotlib.pyplot as plt\n",
    "import seaborn as sns\n",
    "from sklearn.preprocessing import StandardScaler\n",
    "import os\n",
    "\n",
    "#from google.colab import drive\n",
    "#drive.mount(\"/content/drive\")"
   ]
  },
  {
   "cell_type": "markdown",
   "metadata": {
    "id": "ZU99TncABU8v"
   },
   "source": []
  },
  {
   "cell_type": "code",
   "execution_count": 4,
   "metadata": {
    "colab": {
     "base_uri": "https://localhost:8080/"
    },
    "id": "saiYhblk7mq3",
    "outputId": "cd01c732-f869-44d5-ff18-6ba4c774b36d"
   },
   "outputs": [
    {
     "name": "stdout",
     "output_type": "stream",
     "text": [
      "          FID_             FULLNAME   RH     DateTime  MAX15      HR_2  \\\n",
      "0            0  E LITTLE CREEK ROAD  0.0  Jun16_05_01    0.0  0.000000   \n",
      "1            1  E LITTLE CREEK ROAD  0.0  Jun16_05_01    0.0  0.000000   \n",
      "2            2  E LITTLE CREEK ROAD  0.0  Jun16_05_01    0.0  0.000000   \n",
      "3            3  E LITTLE CREEK ROAD  0.0  Jun16_05_01    0.0  0.000000   \n",
      "4            4  E LITTLE CREEK ROAD  0.0  Jun16_05_01    0.0  0.000000   \n",
      "...        ...                  ...  ...          ...    ...       ...   \n",
      "6493120  17497       CHILDRENS LANE  0.0  May18_06_23    0.0  0.002941   \n",
      "6493121  17498       CHILDRENS LANE  0.0  May18_06_23    0.0  0.002891   \n",
      "6493122  17499       FAIRFAX AVENUE  0.0  May18_06_23    0.0  0.003018   \n",
      "6493123  17500       FAIRFAX AVENUE  0.0  May18_06_23    0.0  0.003077   \n",
      "6493124  17501          WOOD STREET  0.0  May18_06_23    0.0  0.006269   \n",
      "\n",
      "            HR_72  w_depth  TD_HR       ELV          DTW       TWI  \n",
      "0        0.000000   0.0000 -0.126  3.449655  2032.268709  7.511351  \n",
      "1        0.000000   0.0000 -0.126  3.351578  2289.101516  7.397089  \n",
      "2        0.000000   0.0000 -0.126  3.355286  2170.271564  7.548316  \n",
      "3        0.000000   0.0000 -0.126  3.489952  2261.629379  8.816202  \n",
      "4        0.000000   0.0000 -0.126  3.421316  2262.551560  9.006661  \n",
      "...           ...      ...    ...       ...          ...       ...  \n",
      "6493120  2.010400   0.0000  0.148  2.471787   995.830006  5.545090  \n",
      "6493121  2.001690   0.0000  0.148  2.573513  1024.210310  7.424834  \n",
      "6493122  2.016025   0.1025  0.148  2.150453   890.199884  6.642009  \n",
      "6493123  2.017209   0.0000  0.148  2.170294   786.371904  6.314220  \n",
      "6493124  2.278670   0.0012  0.148  2.928563  2973.308531  4.465188  \n",
      "\n",
      "[6493125 rows x 12 columns]\n",
      "          FID_             FULLNAME        RH     DateTime     MAX15  \\\n",
      "0            0  E LITTLE CREEK ROAD  0.000000  May18_28_11  0.000000   \n",
      "1            1  E LITTLE CREEK ROAD  0.000000  May18_28_11  0.000000   \n",
      "2            2  E LITTLE CREEK ROAD  0.000000  May18_28_11  0.000000   \n",
      "3            3  E LITTLE CREEK ROAD  0.000000  May18_28_11  0.000000   \n",
      "4            4  E LITTLE CREEK ROAD  0.000000  May18_28_11  0.000000   \n",
      "...        ...                  ...       ...          ...       ...   \n",
      "1773816  17497       CHILDRENS LANE  0.000622  Aug18_20_07  0.000622   \n",
      "1773817  17498       CHILDRENS LANE  0.000621  Aug18_20_07  0.000621   \n",
      "1773818  17499       FAIRFAX AVENUE  0.000625  Aug18_20_07  0.000625   \n",
      "1773819  17500       FAIRFAX AVENUE  0.000627  Aug18_20_07  0.000627   \n",
      "1773820  17501          WOOD STREET  0.000489  Aug18_20_07  0.000489   \n",
      "\n",
      "             HR_2     HR_72  w_depth  TD_HR       ELV          DTW       TWI  \n",
      "0        0.000000  0.000000   0.0000   0.25  3.449655  2032.268709  7.511351  \n",
      "1        0.000000  0.000000   0.0000   0.25  3.351578  2289.101516  7.397089  \n",
      "2        0.000000  0.000000   0.0000   0.25  3.355286  2170.271564  7.548316  \n",
      "3        0.000000  0.000000   0.0000   0.25  3.489952  2261.629379  8.816202  \n",
      "4        0.000000  0.000000   0.0000   0.25  3.421316  2262.551560  9.006661  \n",
      "...           ...       ...      ...    ...       ...          ...       ...  \n",
      "1773816  1.360864  1.433899   0.0000   0.45  2.471787   995.830006  5.545090  \n",
      "1773817  1.362325  1.435045   0.0000   0.45  2.573513  1024.210310  7.424834  \n",
      "1773818  1.359565  1.432944   0.1460   0.45  2.150453   890.199884  6.642009  \n",
      "1773819  1.358953  1.432537   0.0000   0.45  2.170294   786.371904  6.314220  \n",
      "1773820  1.290906  1.380708   0.0012   0.45  2.928563  2973.308531  4.465188  \n",
      "\n",
      "[1773821 rows x 12 columns]\n"
     ]
    }
   ],
   "source": [
    "directory = 'events'\n",
    "csv_files = [f for f in os.listdir(directory) if f.endswith('.csv')]\n",
    "\n",
    "# Split files into training and testing\n",
    "train_files = csv_files[:12]\n",
    "test_files = csv_files[12:17]\n",
    "\n",
    "# Function to load data from CSV files\n",
    "def load_data(files, directory):\n",
    "    data = []\n",
    "    for file in files:\n",
    "        df = pd.read_csv(os.path.join(directory, file))\n",
    "        data.append(df)\n",
    "    return pd.concat(data, ignore_index=True)\n",
    "\n",
    "# Load and split data into features and target variable\n",
    "train_data = load_data(train_files, directory)\n",
    "test_data = load_data(test_files, directory)\n",
    "print(train_data)\n",
    "print(test_data)\n",
    "\n",
    "train_data['sample_weight'] = train_data['w_depth'].apply(lambda x: 1 if x < 0.2 else 2)\n",
    "sample_weight = train_data['sample_weight']\n",
    "\n",
    "X_train = train_data.drop(columns=['w_depth', 'FID_', 'FULLNAME',  'DateTime','sample_weight'])\n",
    "y_train = train_data['w_depth']\n",
    "X_test = test_data.drop(columns=['w_depth', 'FID_', 'FULLNAME', 'DateTime'])\n",
    "y_test = test_data['w_depth']\n",
    "\n",
    "\n",
    "scaler = StandardScaler()\n",
    "X_train_scaled = scaler.fit_transform(X_train)\n",
    "X_test_scaled = scaler.transform(X_test)"
   ]
  },
  {
   "cell_type": "markdown",
   "metadata": {
    "id": "Q4Ldy_YQNWbs"
   },
   "source": []
  },
  {
   "cell_type": "code",
   "execution_count": null,
   "metadata": {
    "colab": {
     "base_uri": "https://localhost:8080/",
     "height": 74
    },
    "id": "RXtKWl9INQYV",
    "outputId": "59d0cb5a-5a2e-44e9-ae71-66ba629ab999"
   },
   "outputs": [],
   "source": [
    "rf_model = RandomForestRegressor(\n",
    "    n_estimators=50,       # Number of trees\n",
    "    max_depth=30,\n",
    "    \n",
    "    #max_features=5,           # Limit tree depth\n",
    "        # Feature limit per split\n",
    "    #min_samples_split=2,   # Min samples per split\n",
    "    #min_samples_leaf=1,     # Min samples per leaf\n",
    "    #max_samples=0.8,        # Fraction of data for each tree (if applicable)\n",
    "    random_state=42\n",
    ")\n",
    "rf_model.fit(X_train_scaled, y_train, sample_weight=sample_weight)\n",
    "\n"
   ]
  },
  {
   "cell_type": "code",
   "execution_count": null,
   "metadata": {},
   "outputs": [
    {
     "name": "stdout",
     "output_type": "stream",
     "text": [
      "Random Forest - Training R^2: 0.9939097277103367\n",
      "Random Forest - Testing R^2: 0.9396058349358315\n"
     ]
    }
   ],
   "source": [
    "y_pred_rf_train = rf_model.predict(X_train_scaled)\n",
    "y_pred_rf_test = rf_model.predict(X_test_scaled)\n",
    "\n",
    "\n",
    "\n",
    "rf_train_r2 = r2_score(y_train, y_pred_rf_train)\n",
    "rf_test_r2 = r2_score(y_test, y_pred_rf_test)\n",
    "\n",
    "\n",
    "print(f'Random Forest - Training R^2: {rf_train_r2}')\n",
    "print(f'Random Forest - Testing R^2: {rf_test_r2}')"
   ]
  },
  {
   "cell_type": "markdown",
   "metadata": {
    "id": "E4hk8yoIDI51"
   },
   "source": []
  },
  {
   "cell_type": "code",
   "execution_count": null,
   "metadata": {
    "colab": {
     "base_uri": "https://localhost:8080/"
    },
    "id": "GUYRdTvZCEzR",
    "outputId": "e4a0c61b-941d-4c92-a9ab-08ccba5c3bf0"
   },
   "outputs": [
    {
     "name": "stderr",
     "output_type": "stream",
     "text": [
      "C:\\Users\\HP\\AppData\\Local\\Packages\\PythonSoftwareFoundation.Python.3.10_qbz5n2kfra8p0\\LocalCache\\local-packages\\Python310\\site-packages\\sklearn\\ensemble\\_base.py:166: FutureWarning: `base_estimator` was renamed to `estimator` in version 1.2 and will be removed in 1.4.\n",
      "  warnings.warn(\n"
     ]
    },
    {
     "data": {
      "text/html": [
       "<style>#sk-container-id-20 {color: black;background-color: white;}#sk-container-id-20 pre{padding: 0;}#sk-container-id-20 div.sk-toggleable {background-color: white;}#sk-container-id-20 label.sk-toggleable__label {cursor: pointer;display: block;width: 100%;margin-bottom: 0;padding: 0.3em;box-sizing: border-box;text-align: center;}#sk-container-id-20 label.sk-toggleable__label-arrow:before {content: \"▸\";float: left;margin-right: 0.25em;color: #696969;}#sk-container-id-20 label.sk-toggleable__label-arrow:hover:before {color: black;}#sk-container-id-20 div.sk-estimator:hover label.sk-toggleable__label-arrow:before {color: black;}#sk-container-id-20 div.sk-toggleable__content {max-height: 0;max-width: 0;overflow: hidden;text-align: left;background-color: #f0f8ff;}#sk-container-id-20 div.sk-toggleable__content pre {margin: 0.2em;color: black;border-radius: 0.25em;background-color: #f0f8ff;}#sk-container-id-20 input.sk-toggleable__control:checked~div.sk-toggleable__content {max-height: 200px;max-width: 100%;overflow: auto;}#sk-container-id-20 input.sk-toggleable__control:checked~label.sk-toggleable__label-arrow:before {content: \"▾\";}#sk-container-id-20 div.sk-estimator input.sk-toggleable__control:checked~label.sk-toggleable__label {background-color: #d4ebff;}#sk-container-id-20 div.sk-label input.sk-toggleable__control:checked~label.sk-toggleable__label {background-color: #d4ebff;}#sk-container-id-20 input.sk-hidden--visually {border: 0;clip: rect(1px 1px 1px 1px);clip: rect(1px, 1px, 1px, 1px);height: 1px;margin: -1px;overflow: hidden;padding: 0;position: absolute;width: 1px;}#sk-container-id-20 div.sk-estimator {font-family: monospace;background-color: #f0f8ff;border: 1px dotted black;border-radius: 0.25em;box-sizing: border-box;margin-bottom: 0.5em;}#sk-container-id-20 div.sk-estimator:hover {background-color: #d4ebff;}#sk-container-id-20 div.sk-parallel-item::after {content: \"\";width: 100%;border-bottom: 1px solid gray;flex-grow: 1;}#sk-container-id-20 div.sk-label:hover label.sk-toggleable__label {background-color: #d4ebff;}#sk-container-id-20 div.sk-serial::before {content: \"\";position: absolute;border-left: 1px solid gray;box-sizing: border-box;top: 0;bottom: 0;left: 50%;z-index: 0;}#sk-container-id-20 div.sk-serial {display: flex;flex-direction: column;align-items: center;background-color: white;padding-right: 0.2em;padding-left: 0.2em;position: relative;}#sk-container-id-20 div.sk-item {position: relative;z-index: 1;}#sk-container-id-20 div.sk-parallel {display: flex;align-items: stretch;justify-content: center;background-color: white;position: relative;}#sk-container-id-20 div.sk-item::before, #sk-container-id-20 div.sk-parallel-item::before {content: \"\";position: absolute;border-left: 1px solid gray;box-sizing: border-box;top: 0;bottom: 0;left: 50%;z-index: -1;}#sk-container-id-20 div.sk-parallel-item {display: flex;flex-direction: column;z-index: 1;position: relative;background-color: white;}#sk-container-id-20 div.sk-parallel-item:first-child::after {align-self: flex-end;width: 50%;}#sk-container-id-20 div.sk-parallel-item:last-child::after {align-self: flex-start;width: 50%;}#sk-container-id-20 div.sk-parallel-item:only-child::after {width: 0;}#sk-container-id-20 div.sk-dashed-wrapped {border: 1px dashed gray;margin: 0 0.4em 0.5em 0.4em;box-sizing: border-box;padding-bottom: 0.4em;background-color: white;}#sk-container-id-20 div.sk-label label {font-family: monospace;font-weight: bold;display: inline-block;line-height: 1.2em;}#sk-container-id-20 div.sk-label-container {text-align: center;}#sk-container-id-20 div.sk-container {/* jupyter's `normalize.less` sets `[hidden] { display: none; }` but bootstrap.min.css set `[hidden] { display: none !important; }` so we also need the `!important` here to be able to override the default hidden behavior on the sphinx rendered scikit-learn.org. See: https://github.com/scikit-learn/scikit-learn/issues/21755 */display: inline-block !important;position: relative;}#sk-container-id-20 div.sk-text-repr-fallback {display: none;}</style><div id=\"sk-container-id-20\" class=\"sk-top-container\"><div class=\"sk-text-repr-fallback\"><pre>AdaBoostRegressor(base_estimator=RandomForestRegressor(max_depth=5,\n",
       "                                                       max_samples=0.8,\n",
       "                                                       min_samples_leaf=5,\n",
       "                                                       min_samples_split=10,\n",
       "                                                       n_estimators=10,\n",
       "                                                       random_state=42),\n",
       "                  random_state=42)</pre><b>In a Jupyter environment, please rerun this cell to show the HTML representation or trust the notebook. <br />On GitHub, the HTML representation is unable to render, please try loading this page with nbviewer.org.</b></div><div class=\"sk-container\" hidden><div class=\"sk-item sk-dashed-wrapped\"><div class=\"sk-label-container\"><div class=\"sk-label sk-toggleable\"><input class=\"sk-toggleable__control sk-hidden--visually\" id=\"sk-estimator-id-22\" type=\"checkbox\" ><label for=\"sk-estimator-id-22\" class=\"sk-toggleable__label sk-toggleable__label-arrow\">AdaBoostRegressor</label><div class=\"sk-toggleable__content\"><pre>AdaBoostRegressor(base_estimator=RandomForestRegressor(max_depth=5,\n",
       "                                                       max_samples=0.8,\n",
       "                                                       min_samples_leaf=5,\n",
       "                                                       min_samples_split=10,\n",
       "                                                       n_estimators=10,\n",
       "                                                       random_state=42),\n",
       "                  random_state=42)</pre></div></div></div><div class=\"sk-parallel\"><div class=\"sk-parallel-item\"><div class=\"sk-item\"><div class=\"sk-label-container\"><div class=\"sk-label sk-toggleable\"><input class=\"sk-toggleable__control sk-hidden--visually\" id=\"sk-estimator-id-23\" type=\"checkbox\" ><label for=\"sk-estimator-id-23\" class=\"sk-toggleable__label sk-toggleable__label-arrow\">base_estimator: RandomForestRegressor</label><div class=\"sk-toggleable__content\"><pre>RandomForestRegressor(max_depth=5, max_samples=0.8, min_samples_leaf=5,\n",
       "                      min_samples_split=10, n_estimators=10, random_state=42)</pre></div></div></div><div class=\"sk-serial\"><div class=\"sk-item\"><div class=\"sk-estimator sk-toggleable\"><input class=\"sk-toggleable__control sk-hidden--visually\" id=\"sk-estimator-id-24\" type=\"checkbox\" ><label for=\"sk-estimator-id-24\" class=\"sk-toggleable__label sk-toggleable__label-arrow\">RandomForestRegressor</label><div class=\"sk-toggleable__content\"><pre>RandomForestRegressor(max_depth=5, max_samples=0.8, min_samples_leaf=5,\n",
       "                      min_samples_split=10, n_estimators=10, random_state=42)</pre></div></div></div></div></div></div></div></div></div></div>"
      ],
      "text/plain": [
       "AdaBoostRegressor(base_estimator=RandomForestRegressor(max_depth=5,\n",
       "                                                       max_samples=0.8,\n",
       "                                                       min_samples_leaf=5,\n",
       "                                                       min_samples_split=10,\n",
       "                                                       n_estimators=10,\n",
       "                                                       random_state=42),\n",
       "                  random_state=42)"
      ]
     },
     "execution_count": 54,
     "metadata": {},
     "output_type": "execute_result"
    }
   ],
   "source": [
    "ab_model = AdaBoostRegressor(base_estimator=rf_model, n_estimators=50, random_state=42)\n",
    "ab_model.fit(X_train_scaled, y_train)"
   ]
  },
  {
   "cell_type": "code",
   "execution_count": null,
   "metadata": {
    "colab": {
     "base_uri": "https://localhost:8080/",
     "height": 211
    },
    "id": "B4DteqkRVN7g",
    "outputId": "bed1667a-3696-4fdd-ed17-3e39f2c1bbf0"
   },
   "outputs": [],
   "source": [
    "\n",
    "y_pred_ab_train = ab_model.predict(X_train_scaled)\n",
    "y_pred_ab_test = ab_model.predict(X_test_scaled)"
   ]
  },
  {
   "cell_type": "code",
   "execution_count": null,
   "metadata": {
    "colab": {
     "base_uri": "https://localhost:8080/",
     "height": 211
    },
    "id": "kCs8KPpdVPco",
    "outputId": "ba8071b5-f855-4237-e448-4c10721330c1"
   },
   "outputs": [
    {
     "name": "stdout",
     "output_type": "stream",
     "text": [
      "AdaBoost - Training R^2: 0.7307827983853854\n",
      "AdaBoost - Testing R^2: 0.7347184852799835\n"
     ]
    }
   ],
   "source": [
    "\n",
    "ab_train_r2 = r2_score(y_train, y_pred_ab_train)\n",
    "ab_test_r2 = r2_score(y_test, y_pred_ab_test)\n",
    "\n",
    "\n",
    "print(f'AdaBoost - Training R^2: {rf_train_r2}')\n",
    "print(f'AdaBoost - Testing R^2: {rf_test_r2}')"
   ]
  }
 ],
 "metadata": {
  "accelerator": "TPU",
  "colab": {
   "gpuType": "V28",
   "history_visible": true,
   "provenance": []
  },
  "kernelspec": {
   "display_name": "Python 3",
   "name": "python3"
  },
  "language_info": {
   "codemirror_mode": {
    "name": "ipython",
    "version": 3
   },
   "file_extension": ".py",
   "mimetype": "text/x-python",
   "name": "python",
   "nbconvert_exporter": "python",
   "pygments_lexer": "ipython3",
   "version": "3.10.11"
  }
 },
 "nbformat": 4,
 "nbformat_minor": 0
}
